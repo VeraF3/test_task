{
 "cells": [
  {
   "cell_type": "markdown",
   "metadata": {},
   "source": [
    "### Ячейка с библиотеками:"
   ]
  },
  {
   "cell_type": "code",
   "execution_count": 1,
   "metadata": {},
   "outputs": [
    {
     "name": "stderr",
     "output_type": "stream",
     "text": [
      "C:\\Users\\feygi\\Anaconda3\\lib\\site-packages\\ipykernel\\parentpoller.py:116: UserWarning: Parent poll failed.  If the frontend dies,\n",
      "                the kernel may be left running.  Please let us know\n",
      "                about your system (bitness, Python, etc.) at\n",
      "                ipython-dev@scipy.org\n",
      "  ipython-dev@scipy.org\"\"\")\n"
     ]
    }
   ],
   "source": [
    "import pandas as pd\n",
    "import re\n",
    "import nltk\n",
    "import pymorphy2"
   ]
  },
  {
   "cell_type": "code",
   "execution_count": 2,
   "metadata": {
    "scrolled": true
   },
   "outputs": [],
   "source": [
    "data = pd.read_csv('test_data.csv')"
   ]
  },
  {
   "cell_type": "markdown",
   "metadata": {},
   "source": [
    "### Задача №1: извлекать реплики с приветствием – где менеджер поздоровался."
   ]
  },
  {
   "cell_type": "markdown",
   "metadata": {},
   "source": [
    "Используем для этого самый тривиальный способ:\n",
    "\n",
    "1) вычленим из таблицы все реплики менеджера;\n",
    "2) составим список возможных приветствий (hellos);\n",
    "3) создадим список, в который мы вложим полученные реплики с приветствиями (list1);\n",
    "4) через циклы проверим, в каких строчках присутствуют ключевые слова из hellos. \n",
    "5) собираем нужные реплики в список list1."
   ]
  },
  {
   "cell_type": "code",
   "execution_count": 3,
   "metadata": {},
   "outputs": [
    {
     "data": {
      "text/plain": [
       "['Алло здравствуйте',\n",
       " 'Алло здравствуйте',\n",
       " 'Алло здравствуйте',\n",
       " 'Алло дмитрий добрый день',\n",
       " 'Добрый меня максим зовут компания китобизнес удобно говорить']"
      ]
     },
     "execution_count": 3,
     "metadata": {},
     "output_type": "execute_result"
    }
   ],
   "source": [
    "#заводим список, содержащий все реплики менеджеров\n",
    "manager_words = data[data['role'] == 'manager']\n",
    "#хорошенько подумав, ограничиваем список до первых нескольких реплик, в которые и должно входить приветствие\n",
    "m_words = manager_words[manager_words['line_n'] <= 5]\n",
    "mw = m_words['text']\n",
    "#список слов, употребляющихся при приветствии\n",
    "hellos = ['здравствуйте', 'добрый', 'Здравствуйте', 'Добрый']\n",
    "#итоговый список с искомыми репликами\n",
    "list1 = []\n",
    "def check(spis_replic, spis_dop_slov, itog):\n",
    "    for i in spis_replic:\n",
    "        for k in spis_dop_slov:\n",
    "            if k in i:\n",
    "                itog.append(i)\n",
    "    return itog\n",
    "check(mw, hellos, list1)"
   ]
  },
  {
   "cell_type": "markdown",
   "metadata": {},
   "source": [
    "### Задача №2: извлекать имя менеджера. "
   ]
  },
  {
   "cell_type": "markdown",
   "metadata": {},
   "source": [
    "Найдём возможные имена с помощью библиотек pymorphy2 и nltk, а также циклов"
   ]
  },
  {
   "cell_type": "code",
   "execution_count": 4,
   "metadata": {
    "scrolled": true
   },
   "outputs": [
    {
     "name": "stdout",
     "output_type": "stream",
     "text": [
      "ангелина    \tвероятность:\t1.0\n",
      "ангелина    \tвероятность:\t1.0\n",
      "ангелина    \tвероятность:\t1.0\n",
      "дмитрий     \tвероятность:\t0.985\n",
      "максим      \tвероятность:\t0.25\n",
      "дмитрий     \tвероятность:\t0.985\n",
      "анастасия   \tвероятность:\t0.333\n",
      "анастасия   \tвероятность:\t0.333\n",
      "анастасия   \tвероятность:\t0.333\n",
      "анастасия   \tвероятность:\t0.333\n",
      "анастасия   \tвероятность:\t0.333\n",
      "анастасия   \tвероятность:\t0.333\n"
     ]
    }
   ],
   "source": [
    "#рассматривались разные величины, начиная с 0.1 до 0.9. Была выбрана 0.2, ибо только в этом случае появляется \"максим\"\n",
    "prob_thresh = 0.2 \n",
    "\n",
    "morph = pymorphy2.MorphAnalyzer()\n",
    "#список возможных менеджеров\n",
    "probable_manager = []\n",
    "for m in mw:\n",
    "    for word in nltk.word_tokenize(m):\n",
    "        for pr in morph.parse(word):\n",
    "            if 'Name' in pr.tag and pr.score >= prob_thresh:\n",
    "                probable_manager.append(word)\n",
    "                print('{:<12}\\tвероятность:\\t{:0.3}'.format(word, pr.score))"
   ]
  },
  {
   "cell_type": "code",
   "execution_count": 5,
   "metadata": {},
   "outputs": [],
   "source": [
    "#в этот словарь мы складываем предложения, содержащие имена менеджеров. И избавляемся от повторов\n",
    "managers = []\n",
    "check(mw, probable_manager, managers)\n",
    "managers = list(set(managers))"
   ]
  },
  {
   "cell_type": "code",
   "execution_count": 6,
   "metadata": {},
   "outputs": [],
   "source": [
    "#заводим список слов, как правило, фигурирующих в приветствиях\n",
    "exceptions = ['Меня', 'меня', 'это', 'Это', 'зовут']\n",
    "#в список ниже складываются предложения из предыдущего, содержащие слова из exceptions\n",
    "man_names = []\n",
    "check(managers, exceptions, man_names)\n",
    "man_names = list(set(man_names))"
   ]
  },
  {
   "cell_type": "code",
   "execution_count": 7,
   "metadata": {},
   "outputs": [
    {
     "data": {
      "text/plain": [
       "['анастасия', 'ангелина', 'максим']"
      ]
     },
     "execution_count": 7,
     "metadata": {},
     "output_type": "execute_result"
    }
   ],
   "source": [
    "#сюда поступает конечный результат - имена менеджеров.\n",
    "definite_managers = []\n",
    "for mn in man_names:\n",
    "    for w in nltk.word_tokenize(mn):\n",
    "        for p in morph.parse(w):\n",
    "            if 'Name' in p.tag and p.score >= prob_thresh:\n",
    "                definite_managers.append(w)\n",
    "                definite_managers = list(set(definite_managers))\n",
    "definite_managers"
   ]
  },
  {
   "cell_type": "markdown",
   "metadata": {},
   "source": [
    "### Задача № 3: извлекать реплики, где менеджер представил себя."
   ]
  },
  {
   "cell_type": "markdown",
   "metadata": {},
   "source": [
    "Из прошлых заданий мы получили  список предложений со словами, которые фигурируют в представлениях менеджерами самих себя. Таким образом, у нас есть список man_names, однако не все входящие в него реплики можно назвать подходящими под заданное условие. Потому следует задаться вопросом: что именно стоит называть представлением? Полагаю, что представление должно состоять из имени менеджера и компании, которую он представляет. Поэтому необходимо включить в \"фильтр\" слово \"компания\" и производные от него."
   ]
  },
  {
   "cell_type": "code",
   "execution_count": 8,
   "metadata": {},
   "outputs": [],
   "source": [
    "companies = ['компания', 'компанию', 'компании']\n",
    "present = []\n",
    "check(man_names, companies, present)\n",
    "present = list(set(present))"
   ]
  },
  {
   "cell_type": "markdown",
   "metadata": {},
   "source": [
    "### Задача №4: извлекать название компании."
   ]
  },
  {
   "cell_type": "markdown",
   "metadata": {},
   "source": [
    "Из прошлого задания мы получили список представлений менеджеров. В нём, как мы видим, можно заметить и название компаний. Наша задача - извлечь их."
   ]
  },
  {
   "cell_type": "code",
   "execution_count": 9,
   "metadata": {},
   "outputs": [
    {
     "data": {
      "text/plain": [
       "['компания китобизнес',\n",
       " 'компания диджитал бизнес',\n",
       " 'компания диджитал бизнес',\n",
       " 'компания диджитал бизнес']"
      ]
     },
     "execution_count": 9,
     "metadata": {},
     "output_type": "execute_result"
    }
   ],
   "source": [
    "comp = []\n",
    "for p in present:\n",
    "    pp = p.find('компания')\n",
    "    end = p.find('бизнес')\n",
    "    name = p[pp+0:end+6]\n",
    "    comp.append(name)\n",
    "comp"
   ]
  },
  {
   "cell_type": "markdown",
   "metadata": {},
   "source": [
    "### Задача №5: извлекать реплики, где менеджер попрощался."
   ]
  },
  {
   "cell_type": "markdown",
   "metadata": {},
   "source": [
    "В данном случае воспользуемся библиотекой re:"
   ]
  },
  {
   "cell_type": "code",
   "execution_count": 10,
   "metadata": {},
   "outputs": [
    {
     "name": "stdout",
     "output_type": "stream",
     "text": [
      "Всего хорошего до свидания\n",
      "До свидания\n",
      "Угу все хорошо да понедельника тогда всего доброго\n",
      "Во вторник все ну с вами да тогда до вторника до свидания\n",
      "Ну до свидания хорошего вечера\n"
     ]
    }
   ],
   "source": [
    "managerw = manager_words['text']\n",
    "for r in managerw:\n",
    "    #настроим поиск на слова, чаще всего употребляющиеся в качестве прощальных в деловой речи\n",
    "    if re.search('свидания', r) or re.search('доброго', r): \n",
    "        print(r)"
   ]
  },
  {
   "cell_type": "markdown",
   "metadata": {},
   "source": [
    "### Задача №6: проверять требование к менеджеру: «В каждом диалоге обязательно необходимо поздороваться и попрощаться с клиентом»"
   ]
  },
  {
   "cell_type": "code",
   "execution_count": 11,
   "metadata": {},
   "outputs": [
    {
     "name": "stdout",
     "output_type": "stream",
     "text": [
      "В диалоге номер 0 оба условия соблюдены.\n",
      "В диалоге номер 1 оба условия соблюдены.\n",
      "В диалоге номер 3 оба условия соблюдены.\n",
      "В диалоге номер 2 не соблюдено одно или более условий.\n",
      "В диалоге номер 4 не соблюдено одно или более условий.\n",
      "В диалоге номер 5 не соблюдено одно или более условий.\n"
     ]
    }
   ],
   "source": [
    "#найдём количество диалогов\n",
    "num_dialogues = len(manager_words['dlg_id'].value_counts())\n",
    "#создадим функцию для создания таблиц, чтобы в последствии сравнить одну из их колонок\n",
    "def df_creator(dialogues, basic_tab, words):\n",
    "    numr = []\n",
    "    replicas = []\n",
    "    for num in range(dialogues):\n",
    "        num_words = basic_tab[basic_tab['dlg_id'] == num]\n",
    "        text_num_words = num_words['text']\n",
    "        for replica in text_num_words:\n",
    "            for h in words:\n",
    "                if re.search(h, replica):\n",
    "                    numr.append(num)\n",
    "                    replicas.append(replica)\n",
    "                    tabl = pd.DataFrame({'num':numr, 'greetings|byes':replicas})\n",
    "    return tabl\n",
    "\n",
    "df1 = df_creator(num_dialogues, manager_words, hellos)\n",
    "df2 = df_creator(num_dialogues, manager_words, ['свидания', 'доброго'])\n",
    "done = list(set(df1['num']) & set(df2['num']))\n",
    "for x in done:\n",
    "    print('В диалоге номер '+str(x)+' оба условия соблюдены.')\n",
    "not_done = list(set(df1['num']) ^ set(df2['num']))\n",
    "for y in not_done:\n",
    "    print('В диалоге номер '+str(y)+' не соблюдено одно или более условий.')\n"
   ]
  },
  {
   "cell_type": "code",
   "execution_count": null,
   "metadata": {},
   "outputs": [],
   "source": []
  }
 ],
 "metadata": {
  "kernelspec": {
   "display_name": "Python 3",
   "language": "python",
   "name": "python3"
  },
  "language_info": {
   "codemirror_mode": {
    "name": "ipython",
    "version": 3
   },
   "file_extension": ".py",
   "mimetype": "text/x-python",
   "name": "python",
   "nbconvert_exporter": "python",
   "pygments_lexer": "ipython3",
   "version": "3.7.0"
  }
 },
 "nbformat": 4,
 "nbformat_minor": 2
}
